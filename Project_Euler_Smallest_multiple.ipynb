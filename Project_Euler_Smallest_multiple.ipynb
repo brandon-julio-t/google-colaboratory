{
  "nbformat": 4,
  "nbformat_minor": 0,
  "metadata": {
    "colab": {
      "name": "Project Euler - Smallest multiple",
      "provenance": [],
      "authorship_tag": "ABX9TyNTKcnLfD8D1zZI5enV4o8y",
      "include_colab_link": true
    },
    "kernelspec": {
      "name": "python3",
      "display_name": "Python 3"
    },
    "language_info": {
      "name": "python"
    }
  },
  "cells": [
    {
      "cell_type": "markdown",
      "metadata": {
        "id": "view-in-github",
        "colab_type": "text"
      },
      "source": [
        "<a href=\"https://colab.research.google.com/github/brandon-julio-t/python-notebooks/blob/main/Project_Euler_Smallest_multiple.ipynb\" target=\"_parent\"><img src=\"https://colab.research.google.com/assets/colab-badge.svg\" alt=\"Open In Colab\"/></a>"
      ]
    },
    {
      "cell_type": "code",
      "execution_count": 14,
      "metadata": {
        "colab": {
          "base_uri": "https://localhost:8080/"
        },
        "id": "XUimNzO-qVoQ",
        "outputId": "7a9c67d5-0fcb-4d0a-bfe7-114931c0e007"
      },
      "outputs": [
        {
          "output_type": "execute_result",
          "data": {
            "text/plain": [
              "232792560"
            ]
          },
          "metadata": {},
          "execution_count": 14
        }
      ],
      "source": [
        "def solve(divisor_limit: int) -> int:\n",
        "  dividend = 2\n",
        "\n",
        "  while True:\n",
        "    count = 0\n",
        "\n",
        "    for divisor in range(1, divisor_limit + 1):\n",
        "      if dividend % divisor == 0:\n",
        "        count += 1\n",
        "\n",
        "    if count == divisor_limit:\n",
        "      return dividend\n",
        "\n",
        "    dividend += 2\n",
        "  \n",
        "# solve(10)\n",
        "solve(20)"
      ]
    }
  ]
}