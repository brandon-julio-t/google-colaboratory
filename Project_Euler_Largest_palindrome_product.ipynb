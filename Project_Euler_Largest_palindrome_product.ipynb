{
  "nbformat": 4,
  "nbformat_minor": 0,
  "metadata": {
    "colab": {
      "name": "Project Euler - Largest palindrome product",
      "provenance": [],
      "authorship_tag": "ABX9TyNVizGePIfnnPjtsl3W0rDp",
      "include_colab_link": true
    },
    "kernelspec": {
      "name": "python3",
      "display_name": "Python 3"
    },
    "language_info": {
      "name": "python"
    }
  },
  "cells": [
    {
      "cell_type": "markdown",
      "metadata": {
        "id": "view-in-github",
        "colab_type": "text"
      },
      "source": [
        "<a href=\"https://colab.research.google.com/github/brandon-julio-t/python-notebooks/blob/main/Project_Euler_Largest_palindrome_product.ipynb\" target=\"_parent\"><img src=\"https://colab.research.google.com/assets/colab-badge.svg\" alt=\"Open In Colab\"/></a>"
      ]
    },
    {
      "cell_type": "code",
      "execution_count": 9,
      "metadata": {
        "colab": {
          "base_uri": "https://localhost:8080/"
        },
        "id": "5gTdhOYLowHV",
        "outputId": "c4aab3dd-f828-4b42-b3a5-b1b52d39ec38"
      },
      "outputs": [
        {
          "output_type": "execute_result",
          "data": {
            "text/plain": [
              "906609"
            ]
          },
          "metadata": {},
          "execution_count": 9
        }
      ],
      "source": [
        "def is_palindrome(number: int) -> bool:\n",
        "  str1 = str(number)\n",
        "  str2 = str1[::-1]\n",
        "  return str1 == str2\n",
        "\n",
        "digits = 3\n",
        "largest = float('-inf')\n",
        "\n",
        "for n1 in range(1, 10 ** digits):\n",
        "  for n2 in range(1, 10 ** digits):\n",
        "    product = n1 * n2\n",
        "    largest = product if product > largest and is_palindrome(product) else largest\n",
        "\n",
        "largest"
      ]
    }
  ]
}