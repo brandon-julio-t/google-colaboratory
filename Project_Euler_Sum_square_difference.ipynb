{
  "nbformat": 4,
  "nbformat_minor": 0,
  "metadata": {
    "colab": {
      "name": "Project Euler - Sum square difference",
      "provenance": [],
      "authorship_tag": "ABX9TyN0HX+anlWGbxr/MZSG00+Q",
      "include_colab_link": true
    },
    "kernelspec": {
      "name": "python3",
      "display_name": "Python 3"
    },
    "language_info": {
      "name": "python"
    }
  },
  "cells": [
    {
      "cell_type": "markdown",
      "metadata": {
        "id": "view-in-github",
        "colab_type": "text"
      },
      "source": [
        "<a href=\"https://colab.research.google.com/github/brandon-julio-t/python-notebooks/blob/main/Project_Euler_Sum_square_difference.ipynb\" target=\"_parent\"><img src=\"https://colab.research.google.com/assets/colab-badge.svg\" alt=\"Open In Colab\"/></a>"
      ]
    },
    {
      "cell_type": "code",
      "execution_count": 5,
      "metadata": {
        "colab": {
          "base_uri": "https://localhost:8080/"
        },
        "id": "dCVMdrlM4yZ2",
        "outputId": "6bd8d9f7-0e23-4844-b91f-9b98db304d07"
      },
      "outputs": [
        {
          "output_type": "execute_result",
          "data": {
            "text/plain": [
              "25164150"
            ]
          },
          "metadata": {},
          "execution_count": 5
        }
      ],
      "source": [
        "def sum_of_the_squares(limit: int) -> int:\n",
        "  sum = 0\n",
        "  for number in range(1, limit + 1):\n",
        "    sum += number ** 2\n",
        "  return sum\n",
        "  \n",
        "\n",
        "def square_of_the_sum(limit: int) -> int:\n",
        "  sum = 0\n",
        "  for number in range(1, limit + 1):\n",
        "    sum += number\n",
        "  return sum ** 2\n",
        "\n",
        "def solve(limit: int) -> None:\n",
        "  return abs(sum_of_the_squares(limit) - square_of_the_sum(limit))\n",
        "\n",
        "# solve(10)\n",
        "solve(100)"
      ]
    }
  ]
}