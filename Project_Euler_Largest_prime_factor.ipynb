{
  "nbformat": 4,
  "nbformat_minor": 0,
  "metadata": {
    "colab": {
      "name": "Project Euler - Largest prime factor",
      "provenance": [],
      "authorship_tag": "ABX9TyOgIpcqrj0PzgFKDIigyWm+",
      "include_colab_link": true
    },
    "kernelspec": {
      "name": "python3",
      "display_name": "Python 3"
    },
    "language_info": {
      "name": "python"
    }
  },
  "cells": [
    {
      "cell_type": "markdown",
      "metadata": {
        "id": "view-in-github",
        "colab_type": "text"
      },
      "source": [
        "<a href=\"https://colab.research.google.com/github/brandon-julio-t/python-notebooks/blob/main/Project_Euler_Largest_prime_factor.ipynb\" target=\"_parent\"><img src=\"https://colab.research.google.com/assets/colab-badge.svg\" alt=\"Open In Colab\"/></a>"
      ]
    },
    {
      "cell_type": "code",
      "execution_count": 24,
      "metadata": {
        "colab": {
          "base_uri": "https://localhost:8080/"
        },
        "id": "dzye2jM0jb-6",
        "outputId": "7e2c3e23-3afe-4f0a-d4c3-ffb49cb9e707"
      },
      "outputs": [
        {
          "output_type": "execute_result",
          "data": {
            "text/plain": [
              "6857"
            ]
          },
          "metadata": {},
          "execution_count": 24
        }
      ],
      "source": [
        "import math\n",
        "from typing import List\n",
        "\n",
        "def is_prime(number: int) -> bool:\n",
        "  for i in range(3, math.floor(math.sqrt(number)) + 1, 2):\n",
        "    if number % i == 0:\n",
        "      return False\n",
        "  return True\n",
        "\n",
        "def solve(number: int) -> List[int]:\n",
        "  answers = []\n",
        "\n",
        "  for i in range(3, math.floor(math.sqrt(number)) + 1, 2):\n",
        "    if number % i == 0 and is_prime(i):\n",
        "      answers.append(i)\n",
        "\n",
        "  return answers[-1]\n",
        "\n",
        "solve(600851475143)"
      ]
    }
  ]
}