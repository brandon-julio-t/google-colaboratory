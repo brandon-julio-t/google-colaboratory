{
  "nbformat": 4,
  "nbformat_minor": 0,
  "metadata": {
    "colab": {
      "name": "Project Euler - Even Fibonacci numbers",
      "provenance": [],
      "authorship_tag": "ABX9TyPkY4FwsTwosYqNAFRBo8Y+",
      "include_colab_link": true
    },
    "kernelspec": {
      "name": "python3",
      "display_name": "Python 3"
    },
    "language_info": {
      "name": "python"
    }
  },
  "cells": [
    {
      "cell_type": "markdown",
      "metadata": {
        "id": "view-in-github",
        "colab_type": "text"
      },
      "source": [
        "<a href=\"https://colab.research.google.com/github/brandon-julio-t/python-notebooks/blob/main/Project_Euler_Even_Fibonacci_numbers.ipynb\" target=\"_parent\"><img src=\"https://colab.research.google.com/assets/colab-badge.svg\" alt=\"Open In Colab\"/></a>"
      ]
    },
    {
      "cell_type": "code",
      "execution_count": 2,
      "metadata": {
        "colab": {
          "base_uri": "https://localhost:8080/"
        },
        "id": "0iYB_ITLiT22",
        "outputId": "1a90e0d6-4eab-4bd3-cbcc-661d3240c364"
      },
      "outputs": [
        {
          "output_type": "execute_result",
          "data": {
            "text/plain": [
              "4613732"
            ]
          },
          "metadata": {},
          "execution_count": 2
        }
      ],
      "source": [
        "a = 1\n",
        "b = 2\n",
        "c = a + b\n",
        "sum = 2\n",
        "\n",
        "while sum < 4_000_000:\n",
        "  a = b\n",
        "  b = c\n",
        "  c = a + b\n",
        "  if c % 2 == 0:\n",
        "    sum += c\n",
        "\n",
        "sum"
      ]
    }
  ]
}